{
 "cells": [
  {
   "cell_type": "markdown",
   "metadata": {},
   "source": [
    "###  DESCRIPCIÓN DEL PROYECTO"
   ]
  },
  {
   "cell_type": "markdown",
   "metadata": {},
   "source": [
    "Estás trabajando como analista para Zuber, una nueva empresa de viajes compartidos que se está lanzando en Chicago. Tu tarea es encontrar patrones en la información disponible. Quieres comprender las preferencias de los pasajeros y el impacto de los factores externos en los viajes.\n",
    "\n",
    "Al trabajar con una base de datos, analizarás los datos de los competidores y probarás una hipótesis sobre el impacto del clima en la frecuencia de los viajes.\n",
    "\n",
    "Descripción de los datos\n",
    "Una base de datos con información sobre viajes en taxi en Chicago:\n",
    "\n",
    "tabla neighborhoods: datos sobre los barrios de la ciudad\n",
    "\n",
    "* name: nombre del barrio\n",
    "* neighborhood_id: código del barrio\n",
    "\n",
    "tabla cabs: datos sobre los taxis\n",
    "\n",
    "* cab_id: código del vehículo\n",
    "* vehicle_id: ID técnico del vehículo\n",
    "* company_name: la empresa propietaria del vehículo\n",
    "\n",
    "tabla trips: datos sobre los viajes\n",
    "\n",
    "* trip_id: código del viaje\n",
    "* cab_id: código del vehículo que opera el viaje\n",
    "* start_ts: fecha y hora del inicio del viaje (tiempo redondeado a la hora)\n",
    "* end_ts: fecha y hora de finalización del viaje (tiempo redondeado a la hora)\n",
    "* duration_seconds: duración del viaje en segundos\n",
    "* distance_miles: distancia del viaje en millas\n",
    "* pickup_location_id: código del barrio de recogida\n",
    "* dropoff_location_id: código del barrio de finalización\n",
    "\n",
    "tabla weather_records: datos sobre el clima\n",
    "\n",
    "* record_id: código del registro meteorológico\n",
    "* ts: fecha y hora del registro (tiempo redondeado a la hora)\n",
    "* temperature: temperatura cuando se tomó el registro\n",
    "* description: breve descripción de las condiciones meteorológicas, por ejemplo, \"lluvia ligera\" o \"nubes dispersas\""
   ]
  },
  {
   "cell_type": "markdown",
   "metadata": {},
   "source": [
    "Etapas de analisis\n",
    "\n",
    "1  DESCRIPCIÓN DEL PROYECTO,\n",
    "\n",
    "2  PREPARAR LOS DATOS.\n",
    "\n",
    "2.1  IMPORTACIÓN DE LIBRERIAS.\n",
    "\n",
    "3  PREPARACIÓN DE DATOS.\n",
    "\n",
    "3.1  DATAFRAME CABS\n",
    "\n",
    "3.2  DATAFRAME TRIPS\n",
    "\n",
    "3.3  DATAFRAME WEATHER\n",
    "\n",
    "3.3.1  ENRIQUECIMIENTO DE DATOS\n",
    "\n",
    "4  ANALISIS ESTADISTICO.\n",
    "\n",
    "4.1  LOS 10 PRINCIPALES BARRIOS EN TERMINOS DE FINALIZACIÓN DE RECORRIDOS\n",
    "\n",
    "4.2  LAS EMPRESAS DE TAXIS CON MAYOR NUMERO DE VIAJES\n",
    "\n",
    "4.3  LOS 10 PRINCIPALES BARRIOS QUE REALIZAN MAS VIAJES\n",
    "\n",
    "5  PRUEBA DE HIPOTESIS\n",
    "\n",
    "5.1  DURACIÓN PROMEDIO DE LOS VIAJES DESDE LOOP HASTA EL AEROPUERTO INTERNACIONAL O'HARE\n",
    "\n",
    "6  CONCLUSIÓN GENERAL"
   ]
  },
  {
   "cell_type": "markdown",
   "metadata": {},
   "source": [
    "### PREPARAR LOS DATOS."
   ]
  },
  {
   "cell_type": "markdown",
   "metadata": {},
   "source": [
    "#### IMPORTACIÓN DE LIBRERIAS."
   ]
  },
  {
   "cell_type": "code",
   "execution_count": 1,
   "metadata": {},
   "outputs": [],
   "source": [
    "# Importar bibliotecas\n",
    "import pandas as pd\n",
    "import numpy as np\n",
    "from matplotlib import pyplot as plt\n",
    "import seaborn as sns\n",
    "from scipy.stats import ttest_ind\n",
    "from scipy import stats as st\n",
    "from scipy.stats import levene\n",
    "import scipy.stats as stats"
   ]
  },
  {
   "cell_type": "code",
   "execution_count": 3,
   "metadata": {},
   "outputs": [],
   "source": [
    "# Importar DataFrame\n",
    "cabs = pd.read_csv('/datasets/project_sql_result_01.csv')\n",
    "trips = pd.read_csv('/datasets/project_sql_result_04.csv')\n",
    "weather = pd.read_csv('/datasets/project_sql_result_07.csv') "
   ]
  },
  {
   "cell_type": "code",
   "execution_count": 4,
   "metadata": {},
   "outputs": [
    {
     "name": "stdout",
     "output_type": "stream",
     "text": [
      "                      company_name  trips_amount\n",
      "0                        Flash Cab         19558\n",
      "1        Taxi Affiliation Services         11422\n",
      "2                Medallion Leasing         10367\n",
      "3                       Yellow Cab          9888\n",
      "4  Taxi Affiliation Service Yellow          9299\n",
      "  dropoff_location_name  average_trips\n",
      "0                  Loop   10727.466667\n",
      "1           River North    9523.666667\n",
      "2         Streeterville    6664.666667\n",
      "3             West Loop    5163.666667\n",
      "4                O'Hare    2546.900000\n",
      "              start_ts weather_conditions  duration_seconds\n",
      "0  2017-11-25 16:00:00               Good            2410.0\n",
      "1  2017-11-25 14:00:00               Good            1920.0\n",
      "2  2017-11-25 12:00:00               Good            1543.0\n",
      "3  2017-11-04 10:00:00               Good            2512.0\n",
      "4  2017-11-11 07:00:00               Good            1440.0\n"
     ]
    }
   ],
   "source": [
    "print(cabs.head())\n",
    "print(trips.head())\n",
    "print(weather.head())"
   ]
  },
  {
   "cell_type": "markdown",
   "metadata": {},
   "source": [
    "### PREPARACIÓN DE DATOS."
   ]
  },
  {
   "cell_type": "markdown",
   "metadata": {},
   "source": [
    "#### DATAFRAME CABS"
   ]
  },
  {
   "cell_type": "code",
   "execution_count": 6,
   "metadata": {},
   "outputs": [
    {
     "name": "stdout",
     "output_type": "stream",
     "text": [
      "<class 'pandas.core.frame.DataFrame'>\n",
      "RangeIndex: 64 entries, 0 to 63\n",
      "Data columns (total 2 columns):\n",
      " #   Column        Non-Null Count  Dtype \n",
      "---  ------        --------------  ----- \n",
      " 0   company_name  64 non-null     object\n",
      " 1   trips_amount  64 non-null     int64 \n",
      "dtypes: int64(1), object(1)\n",
      "memory usage: 1.1+ KB\n"
     ]
    }
   ],
   "source": [
    "cabs.info()"
   ]
  },
  {
   "cell_type": "code",
   "execution_count": 7,
   "metadata": {},
   "outputs": [
    {
     "data": {
      "text/html": [
       "<div>\n",
       "<style scoped>\n",
       "    .dataframe tbody tr th:only-of-type {\n",
       "        vertical-align: middle;\n",
       "    }\n",
       "\n",
       "    .dataframe tbody tr th {\n",
       "        vertical-align: top;\n",
       "    }\n",
       "\n",
       "    .dataframe thead th {\n",
       "        text-align: right;\n",
       "    }\n",
       "</style>\n",
       "<table border=\"1\" class=\"dataframe\">\n",
       "  <thead>\n",
       "    <tr style=\"text-align: right;\">\n",
       "      <th></th>\n",
       "      <th>trips_amount</th>\n",
       "    </tr>\n",
       "  </thead>\n",
       "  <tbody>\n",
       "    <tr>\n",
       "      <th>count</th>\n",
       "      <td>64.000000</td>\n",
       "    </tr>\n",
       "    <tr>\n",
       "      <th>mean</th>\n",
       "      <td>2145.484375</td>\n",
       "    </tr>\n",
       "    <tr>\n",
       "      <th>std</th>\n",
       "      <td>3812.310186</td>\n",
       "    </tr>\n",
       "    <tr>\n",
       "      <th>min</th>\n",
       "      <td>2.000000</td>\n",
       "    </tr>\n",
       "    <tr>\n",
       "      <th>25%</th>\n",
       "      <td>20.750000</td>\n",
       "    </tr>\n",
       "    <tr>\n",
       "      <th>50%</th>\n",
       "      <td>178.500000</td>\n",
       "    </tr>\n",
       "    <tr>\n",
       "      <th>75%</th>\n",
       "      <td>2106.500000</td>\n",
       "    </tr>\n",
       "    <tr>\n",
       "      <th>max</th>\n",
       "      <td>19558.000000</td>\n",
       "    </tr>\n",
       "  </tbody>\n",
       "</table>\n",
       "</div>"
      ],
      "text/plain": [
       "       trips_amount\n",
       "count     64.000000\n",
       "mean    2145.484375\n",
       "std     3812.310186\n",
       "min        2.000000\n",
       "25%       20.750000\n",
       "50%      178.500000\n",
       "75%     2106.500000\n",
       "max    19558.000000"
      ]
     },
     "execution_count": 7,
     "metadata": {},
     "output_type": "execute_result"
    }
   ],
   "source": [
    "cabs.describe()"
   ]
  },
  {
   "cell_type": "code",
   "execution_count": 8,
   "metadata": {},
   "outputs": [
    {
     "data": {
      "text/plain": [
       "company_name                  trips_amount\n",
       "0118 - 42111 Godfrey S. Awir  33              1\n",
       "1085 - 72312 N and W Cab Co   29              1\n",
       "Checker Taxi                  1486            1\n",
       "Checker Taxi Affiliation      2216            1\n",
       "Chicago Carriage Cab Corp     9181            1\n",
       "                                             ..\n",
       "6057 - 24657 Richard Addo     13              1\n",
       "6574 - Babylon Express Inc.   31              1\n",
       "6742 - 83735 Tasha Ride Inc   39              1\n",
       "6743 - 78771 Luhak Corp       33              1\n",
       "Yellow Cab                    9888            1\n",
       "Length: 64, dtype: int64"
      ]
     },
     "execution_count": 8,
     "metadata": {},
     "output_type": "execute_result"
    }
   ],
   "source": [
    "cabs.value_counts()"
   ]
  },
  {
   "cell_type": "markdown",
   "metadata": {},
   "source": [
    "Este dataframe cuenta con dos columnas:\n",
    "* <b>company_name,</b> contiene los nombres de las compañias, no hay valores duplicados ni ausentes;\n",
    "* <b>trips_amount,</b> contiene la cantidad de viajes por compañia, no hay valores ausentes."
   ]
  },
  {
   "cell_type": "markdown",
   "metadata": {},
   "source": [
    "#### DATAFRAME TRIPS"
   ]
  },
  {
   "cell_type": "code",
   "execution_count": 9,
   "metadata": {},
   "outputs": [
    {
     "name": "stdout",
     "output_type": "stream",
     "text": [
      "<class 'pandas.core.frame.DataFrame'>\n",
      "RangeIndex: 94 entries, 0 to 93\n",
      "Data columns (total 2 columns):\n",
      " #   Column                 Non-Null Count  Dtype  \n",
      "---  ------                 --------------  -----  \n",
      " 0   dropoff_location_name  94 non-null     object \n",
      " 1   average_trips          94 non-null     float64\n",
      "dtypes: float64(1), object(1)\n",
      "memory usage: 1.6+ KB\n"
     ]
    }
   ],
   "source": [
    "trips.info()"
   ]
  },
  {
   "cell_type": "code",
   "execution_count": 10,
   "metadata": {},
   "outputs": [
    {
     "data": {
      "text/html": [
       "<div>\n",
       "<style scoped>\n",
       "    .dataframe tbody tr th:only-of-type {\n",
       "        vertical-align: middle;\n",
       "    }\n",
       "\n",
       "    .dataframe tbody tr th {\n",
       "        vertical-align: top;\n",
       "    }\n",
       "\n",
       "    .dataframe thead th {\n",
       "        text-align: right;\n",
       "    }\n",
       "</style>\n",
       "<table border=\"1\" class=\"dataframe\">\n",
       "  <thead>\n",
       "    <tr style=\"text-align: right;\">\n",
       "      <th></th>\n",
       "      <th>average_trips</th>\n",
       "    </tr>\n",
       "  </thead>\n",
       "  <tbody>\n",
       "    <tr>\n",
       "      <th>count</th>\n",
       "      <td>94.000000</td>\n",
       "    </tr>\n",
       "    <tr>\n",
       "      <th>mean</th>\n",
       "      <td>599.953728</td>\n",
       "    </tr>\n",
       "    <tr>\n",
       "      <th>std</th>\n",
       "      <td>1714.591098</td>\n",
       "    </tr>\n",
       "    <tr>\n",
       "      <th>min</th>\n",
       "      <td>1.800000</td>\n",
       "    </tr>\n",
       "    <tr>\n",
       "      <th>25%</th>\n",
       "      <td>14.266667</td>\n",
       "    </tr>\n",
       "    <tr>\n",
       "      <th>50%</th>\n",
       "      <td>52.016667</td>\n",
       "    </tr>\n",
       "    <tr>\n",
       "      <th>75%</th>\n",
       "      <td>298.858333</td>\n",
       "    </tr>\n",
       "    <tr>\n",
       "      <th>max</th>\n",
       "      <td>10727.466667</td>\n",
       "    </tr>\n",
       "  </tbody>\n",
       "</table>\n",
       "</div>"
      ],
      "text/plain": [
       "       average_trips\n",
       "count      94.000000\n",
       "mean      599.953728\n",
       "std      1714.591098\n",
       "min         1.800000\n",
       "25%        14.266667\n",
       "50%        52.016667\n",
       "75%       298.858333\n",
       "max     10727.466667"
      ]
     },
     "execution_count": 10,
     "metadata": {},
     "output_type": "execute_result"
    }
   ],
   "source": [
    "trips.describe()"
   ]
  },
  {
   "cell_type": "code",
   "execution_count": 11,
   "metadata": {},
   "outputs": [
    {
     "data": {
      "text/plain": [
       "Englewood          1\n",
       "West Lawn          1\n",
       "Auburn Gresham     1\n",
       "Garfield Ridge     1\n",
       "West Town          1\n",
       "                  ..\n",
       "Douglas            1\n",
       "Old Town           1\n",
       "Washington Park    1\n",
       "Chinatown          1\n",
       "East Village       1\n",
       "Name: dropoff_location_name, Length: 94, dtype: int64"
      ]
     },
     "execution_count": 11,
     "metadata": {},
     "output_type": "execute_result"
    }
   ],
   "source": [
    "trips['dropoff_location_name'].value_counts()"
   ]
  },
  {
   "cell_type": "markdown",
   "metadata": {},
   "source": [
    "Contamos con 2 columnas:\n",
    "* <b>dropoff_location_name,</b> almacena el nombre de los barrios, no hay valores ausentes o duplicados;\n",
    "* <b>average_trips,</b> cuenta con valores decimales, sin embargo, por que la columna almacena un promedio y los decimales pueden ser importantes por ese motivo se opta dejarlo tal como esta."
   ]
  },
  {
   "cell_type": "markdown",
   "metadata": {},
   "source": [
    "#### DATAFRAME WEATHER"
   ]
  },
  {
   "cell_type": "code",
   "execution_count": 13,
   "metadata": {},
   "outputs": [
    {
     "name": "stdout",
     "output_type": "stream",
     "text": [
      "<class 'pandas.core.frame.DataFrame'>\n",
      "RangeIndex: 1068 entries, 0 to 1067\n",
      "Data columns (total 3 columns):\n",
      " #   Column              Non-Null Count  Dtype  \n",
      "---  ------              --------------  -----  \n",
      " 0   start_ts            1068 non-null   object \n",
      " 1   weather_conditions  1068 non-null   object \n",
      " 2   duration_seconds    1068 non-null   float64\n",
      "dtypes: float64(1), object(2)\n",
      "memory usage: 25.2+ KB\n"
     ]
    }
   ],
   "source": [
    "weather.info()"
   ]
  },
  {
   "cell_type": "code",
   "execution_count": 14,
   "metadata": {},
   "outputs": [
    {
     "data": {
      "text/html": [
       "<div>\n",
       "<style scoped>\n",
       "    .dataframe tbody tr th:only-of-type {\n",
       "        vertical-align: middle;\n",
       "    }\n",
       "\n",
       "    .dataframe tbody tr th {\n",
       "        vertical-align: top;\n",
       "    }\n",
       "\n",
       "    .dataframe thead th {\n",
       "        text-align: right;\n",
       "    }\n",
       "</style>\n",
       "<table border=\"1\" class=\"dataframe\">\n",
       "  <thead>\n",
       "    <tr style=\"text-align: right;\">\n",
       "      <th></th>\n",
       "      <th>duration_seconds</th>\n",
       "    </tr>\n",
       "  </thead>\n",
       "  <tbody>\n",
       "    <tr>\n",
       "      <th>count</th>\n",
       "      <td>1068.000000</td>\n",
       "    </tr>\n",
       "    <tr>\n",
       "      <th>mean</th>\n",
       "      <td>2071.731273</td>\n",
       "    </tr>\n",
       "    <tr>\n",
       "      <th>std</th>\n",
       "      <td>769.461125</td>\n",
       "    </tr>\n",
       "    <tr>\n",
       "      <th>min</th>\n",
       "      <td>0.000000</td>\n",
       "    </tr>\n",
       "    <tr>\n",
       "      <th>25%</th>\n",
       "      <td>1438.250000</td>\n",
       "    </tr>\n",
       "    <tr>\n",
       "      <th>50%</th>\n",
       "      <td>1980.000000</td>\n",
       "    </tr>\n",
       "    <tr>\n",
       "      <th>75%</th>\n",
       "      <td>2580.000000</td>\n",
       "    </tr>\n",
       "    <tr>\n",
       "      <th>max</th>\n",
       "      <td>7440.000000</td>\n",
       "    </tr>\n",
       "  </tbody>\n",
       "</table>\n",
       "</div>"
      ],
      "text/plain": [
       "       duration_seconds\n",
       "count       1068.000000\n",
       "mean        2071.731273\n",
       "std          769.461125\n",
       "min            0.000000\n",
       "25%         1438.250000\n",
       "50%         1980.000000\n",
       "75%         2580.000000\n",
       "max         7440.000000"
      ]
     },
     "execution_count": 14,
     "metadata": {},
     "output_type": "execute_result"
    }
   ],
   "source": [
    "weather.describe()"
   ]
  },
  {
   "cell_type": "code",
   "execution_count": 12,
   "metadata": {},
   "outputs": [
    {
     "data": {
      "text/html": [
       "<div>\n",
       "<style scoped>\n",
       "    .dataframe tbody tr th:only-of-type {\n",
       "        vertical-align: middle;\n",
       "    }\n",
       "\n",
       "    .dataframe tbody tr th {\n",
       "        vertical-align: top;\n",
       "    }\n",
       "\n",
       "    .dataframe thead th {\n",
       "        text-align: right;\n",
       "    }\n",
       "</style>\n",
       "<table border=\"1\" class=\"dataframe\">\n",
       "  <thead>\n",
       "    <tr style=\"text-align: right;\">\n",
       "      <th></th>\n",
       "      <th>start_ts</th>\n",
       "      <th>weather_conditions</th>\n",
       "      <th>duration_seconds</th>\n",
       "    </tr>\n",
       "  </thead>\n",
       "  <tbody>\n",
       "    <tr>\n",
       "      <th>0</th>\n",
       "      <td>2017-11-25 16:00:00</td>\n",
       "      <td>Good</td>\n",
       "      <td>2410.0</td>\n",
       "    </tr>\n",
       "    <tr>\n",
       "      <th>1</th>\n",
       "      <td>2017-11-25 14:00:00</td>\n",
       "      <td>Good</td>\n",
       "      <td>1920.0</td>\n",
       "    </tr>\n",
       "    <tr>\n",
       "      <th>2</th>\n",
       "      <td>2017-11-25 12:00:00</td>\n",
       "      <td>Good</td>\n",
       "      <td>1543.0</td>\n",
       "    </tr>\n",
       "    <tr>\n",
       "      <th>3</th>\n",
       "      <td>2017-11-04 10:00:00</td>\n",
       "      <td>Good</td>\n",
       "      <td>2512.0</td>\n",
       "    </tr>\n",
       "    <tr>\n",
       "      <th>4</th>\n",
       "      <td>2017-11-11 07:00:00</td>\n",
       "      <td>Good</td>\n",
       "      <td>1440.0</td>\n",
       "    </tr>\n",
       "  </tbody>\n",
       "</table>\n",
       "</div>"
      ],
      "text/plain": [
       "              start_ts weather_conditions  duration_seconds\n",
       "0  2017-11-25 16:00:00               Good            2410.0\n",
       "1  2017-11-25 14:00:00               Good            1920.0\n",
       "2  2017-11-25 12:00:00               Good            1543.0\n",
       "3  2017-11-04 10:00:00               Good            2512.0\n",
       "4  2017-11-11 07:00:00               Good            1440.0"
      ]
     },
     "execution_count": 12,
     "metadata": {},
     "output_type": "execute_result"
    }
   ],
   "source": [
    "weather.head()"
   ]
  },
  {
   "cell_type": "markdown",
   "metadata": {},
   "source": [
    "Contamos con solo tres columnas, \n",
    "* <b>start_ts,</b> debemos cambiar el formato a formato de fecha;\n",
    "* <b>weather_conditions,</b> vamos a analizar que valores contamos;\n",
    "* <b>duration_seconds,</b> podriamos cambiar los valores float a int pero desconocemos si podemos tener perdida de información, así que dejaremos por el momento la columna como esta."
   ]
  },
  {
   "cell_type": "code",
   "execution_count": 44,
   "metadata": {},
   "outputs": [
    {
     "data": {
      "text/plain": [
       "Good    888\n",
       "Bad     180\n",
       "Name: weather_conditions, dtype: int64"
      ]
     },
     "execution_count": 44,
     "metadata": {},
     "output_type": "execute_result"
    }
   ],
   "source": [
    "# Verificamos con que valores unicos contamos con la funcion value_counts()\n",
    "weather['weather_conditions'].value_counts()"
   ]
  },
  {
   "cell_type": "markdown",
   "metadata": {},
   "source": [
    "Revisando los valores unicos almacenados en 'weather_conditions' tenemos que solo existen dos valores, 'Good' que consideramos como condiciones de clima normales y 'Bad' que consideramos como días lluviosos. "
   ]
  },
  {
   "cell_type": "code",
   "execution_count": 39,
   "metadata": {},
   "outputs": [
    {
     "name": "stdout",
     "output_type": "stream",
     "text": [
      "             start_ts weather_conditions  duration_seconds day_of_week\n",
      "0 2017-11-25 16:00:00               Good            2410.0    Saturday\n",
      "1 2017-11-25 14:00:00               Good            1920.0    Saturday\n",
      "2 2017-11-25 12:00:00               Good            1543.0    Saturday\n",
      "3 2017-11-04 10:00:00               Good            2512.0    Saturday\n",
      "4 2017-11-11 07:00:00               Good            1440.0    Saturday\n"
     ]
    }
   ],
   "source": [
    "#Se transforma la columna 'start_ts' a formato timestamp para poder trabajar y extraer información posteriormente\n",
    "weather['start_ts'] = pd.to_datetime(weather['start_ts'], format='%Y-%m-%dT%H:%M:%S')\n"
   ]
  },
  {
   "cell_type": "code",
   "execution_count": 43,
   "metadata": {},
   "outputs": [
    {
     "name": "stdout",
     "output_type": "stream",
     "text": [
      "<class 'pandas.core.frame.DataFrame'>\n",
      "RangeIndex: 1068 entries, 0 to 1067\n",
      "Data columns (total 4 columns):\n",
      " #   Column              Non-Null Count  Dtype         \n",
      "---  ------              --------------  -----         \n",
      " 0   start_ts            1068 non-null   datetime64[ns]\n",
      " 1   weather_conditions  1068 non-null   object        \n",
      " 2   duration_seconds    1068 non-null   float64       \n",
      " 3   day_of_week         1068 non-null   object        \n",
      "dtypes: datetime64[ns](1), float64(1), object(2)\n",
      "memory usage: 33.5+ KB\n"
     ]
    }
   ],
   "source": [
    "#comprobamos el cambio de formato\n",
    "weather.info()"
   ]
  },
  {
   "cell_type": "markdown",
   "metadata": {},
   "source": [
    "##### ENRIQUECIMIENTO DE DATOS "
   ]
  },
  {
   "cell_type": "code",
   "execution_count": null,
   "metadata": {},
   "outputs": [],
   "source": [
    "weather['day_of_week'] = weather['start_ts'].dt.day_name()\n",
    "print(weather.head())"
   ]
  },
  {
   "cell_type": "markdown",
   "metadata": {},
   "source": [
    "Se realizo el cambio de formato de la fecha, asi posteriormente extraer el día de la semana al que pertenece cada fecha y almacenarlo en una nueva columna llamada 'day_of_week' para que sea mucho más sencillo agrupar los datos."
   ]
  },
  {
   "cell_type": "markdown",
   "metadata": {},
   "source": [
    "### ANALISIS ESTADISTICO."
   ]
  },
  {
   "cell_type": "markdown",
   "metadata": {},
   "source": [
    "#### LOS 10 PRINCIPALES BARRIOS EN TERMINOS DE FINALIZACIÓN DE RECORRIDOS "
   ]
  },
  {
   "cell_type": "code",
   "execution_count": 52,
   "metadata": {},
   "outputs": [
    {
     "name": "stdout",
     "output_type": "stream",
     "text": [
      "   dropoff_location_name  average_trips\n",
      "0                   Loop   10727.466667\n",
      "1            River North    9523.666667\n",
      "2          Streeterville    6664.666667\n",
      "3              West Loop    5163.666667\n",
      "4                 O'Hare    2546.900000\n",
      "..                   ...            ...\n",
      "89       Mount Greenwood       3.137931\n",
      "90             Hegewisch       3.117647\n",
      "91              Burnside       2.333333\n",
      "92             East Side       1.961538\n",
      "93             Riverdale       1.800000\n",
      "\n",
      "[94 rows x 2 columns]\n"
     ]
    }
   ],
   "source": [
    "#TOP 10 de los principales barrios\n",
    "top_trips = trips.sort_values(by='average_trips',ascending= False)\n",
    "print(top_trips)\n",
    "      #.plot(kind=\"bar\"))"
   ]
  },
  {
   "cell_type": "markdown",
   "metadata": {},
   "source": [
    "Esta información es de suma importancia para saber en que zonas deberian estar circulando los taxis o colocar sitios cerca de las zonas donde existen mayor número de viajes y evitar los barrios con menos viajes."
   ]
  },
  {
   "cell_type": "markdown",
   "metadata": {},
   "source": [
    "#### LAS EMPRESAS DE TAXIS CON MAYOR NUMERO DE VIAJES"
   ]
  },
  {
   "cell_type": "code",
   "execution_count": 51,
   "metadata": {},
   "outputs": [
    {
     "data": {
      "text/plain": [
       "<AxesSubplot:title={'center':'Número de viajes por empresa de taxis'}, xlabel='Empresa de taxis', ylabel='Número de viajes'>"
      ]
     },
     "execution_count": 51,
     "metadata": {},
     "output_type": "execute_result"
    },
    {
     "data": {
      "image/png": "[encoded data removed]",
      "text/plain": [
       "<Figure size 640x480 with 1 Axes>"
      ]
     },
     "metadata": {},
     "output_type": "display_data"
    }
   ],
   "source": [
    "cabs.sort_values(by='trips_amount',ascending=False).head(20).plot(\n",
    "    kind=\"bar\", \n",
    "    x= 'company_name',\n",
    "    y= 'trips_amount',\n",
    "    title= 'Número de viajes por empresa de taxis',\n",
    "    ylabel= 'Número de viajes',\n",
    "    xlabel= 'Empresa de taxis'\n",
    ")\n"
   ]
  },
  {
   "cell_type": "markdown",
   "metadata": {},
   "source": [
    "Esta información nos sirve de partida para hacer una investigación acerca del servicio y los precios de las empresas mas populares, asi nosotros como zuber crear un servicio con las caracteristicas de vehiculos, precios y algun agregado que tenga la competencia, asi logrando que nuestro servicio sea competitivo con las empresas que dominan el mercado actualmente."
   ]
  },
  {
   "cell_type": "markdown",
   "metadata": {},
   "source": [
    "#### LOS 10 PRINCIPALES BARRIOS QUE REALIZAN MAS VIAJES"
   ]
  },
  {
   "cell_type": "code",
   "execution_count": 53,
   "metadata": {},
   "outputs": [
    {
     "data": {
      "text/plain": [
       "<AxesSubplot:title={'center':'TOP 10 Principales barrios que realizan más viajes'}, xlabel='Barrio', ylabel='Promedio de viajes'>"
      ]
     },
     "execution_count": 53,
     "metadata": {},
     "output_type": "execute_result"
    },
    {
     "data": {
      "image/png": "[encoded data removed]",
      "text/plain": [
       "<Figure size 640x480 with 1 Axes>"
      ]
     },
     "metadata": {},
     "output_type": "display_data"
    }
   ],
   "source": [
    "trips.sort_values(by='average_trips',ascending= False).head(10).plot(\n",
    "    kind=\"bar\", \n",
    "    x= 'dropoff_location_name',\n",
    "    y= 'average_trips',\n",
    "    title= 'TOP 10 Principales barrios que realizan más viajes',\n",
    "    ylabel= 'Promedio de viajes',\n",
    "    xlabel= 'Barrio'\n",
    ")\n"
   ]
  },
  {
   "cell_type": "markdown",
   "metadata": {},
   "source": [
    "Como ya se habia mencionado, el conocer los barrios con mayor número de viajes nos ayuda a crear estrategias para posicionarnos en el mercado, por ejemplo, ofrecer descuentos si el viaje se realiza desde alguno de estos puntos, quedando apenas por debajo del precio promedio de la competencia, haciendo que nuestro servicio sea mas competitivo y sea mas utilizado. "
   ]
  },
  {
   "cell_type": "markdown",
   "metadata": {},
   "source": [
    "### PRUEBA DE HIPOTESIS"
   ]
  },
  {
   "cell_type": "markdown",
   "metadata": {},
   "source": [
    "#### DURACIÓN PROMEDIO DE LOS VIAJES DESDE LOOP HASTA EL AEROPUERTO INTERNACIONAL O'HARE"
   ]
  },
  {
   "cell_type": "markdown",
   "metadata": {},
   "source": [
    "Comprobación si \"La duración promedio de los viajes desde Loop hasta el Aeropuerto Internacional O'Hare cambia los dias lluviosos en sábado."
   ]
  },
  {
   "cell_type": "code",
   "execution_count": 38,
   "metadata": {},
   "outputs": [],
   "source": [
    "#filtro para los días sábados\n",
    "weather_saturdays = weather[weather['day_of_week'] == 'Saturday'][['day_of_week','duration_seconds','weather_conditions']]\n",
    "#filtro para los días lluviosos\n",
    "weather_rainy_saturdays = weather_saturdays[weather_saturdays['weather_conditions'] == 'Bad']['duration_seconds']\n",
    "#filtro para los días sábados\n",
    "weather_good_saturdays = weather_saturdays[weather_saturdays['weather_conditions'] == 'Good']['duration_seconds']\n"
   ]
  },
  {
   "cell_type": "code",
   "execution_count": 37,
   "metadata": {},
   "outputs": [
    {
     "name": "stdout",
     "output_type": "stream",
     "text": [
      "No se rechaza la hipótesis nula: las varianzas son iguales\n"
     ]
    }
   ],
   "source": [
    "alpha = 0.05# tu código: establece un nivel crítico de significación estadística\n",
    "\n",
    "\n",
    "stat, p_value = stats.levene(weather_rainy_saturdays, weather_good_saturdays)\n",
    "\n",
    "\n",
    "alpha = 0.05\n",
    "if p_value > alpha:\n",
    "    print(\"No se rechaza la hipótesis nula: las varianzas son iguales\")\n",
    "else:\n",
    "    print(\"Se rechaza la hipótesis nula: las varianzas no son iguales\")\n",
    "    \n"
   ]
  },
  {
   "cell_type": "markdown",
   "metadata": {},
   "source": [
    "Utilizamos levene para comprobar si las varianzas son iguales. obteniendo que las varianzas de ambas variables son iguales."
   ]
  },
  {
   "cell_type": "code",
   "execution_count": 36,
   "metadata": {},
   "outputs": [
    {
     "name": "stdout",
     "output_type": "stream",
     "text": [
      "valor p: 6.517970327099473e-12\n",
      "No podemos rechazar la hipótesis nula\n"
     ]
    }
   ],
   "source": [
    "results = st.ttest_ind(weather_rainy_saturdays, weather_good_saturdays, equal_var=True)\n",
    "\n",
    "print('valor p:', results.pvalue) # tu código: imprime el valor p obtenido\n",
    "\n",
    "if (results.pvalue > alpha): # su código: compara los valores p obtenidos con el nivel de significación estadística):\n",
    "    print(\"Rechazamos la hipótesis nula\")\n",
    "else:\n",
    "    print(\"No podemos rechazar la hipótesis nula\")"
   ]
  },
  {
   "cell_type": "markdown",
   "metadata": {},
   "source": [
    "Para saber si hay una relación en el aumento de la duración promedio de los viajes en un día sabado lluvioso, debemos compararlo con la duración promedio de los viajes realizados los días sábado con clima bueno. \n",
    "\n",
    "* Así que vamos a filtrar el dataframe 'weather' para que en primera instancia solo nos arroje los dias sábados,\n",
    "\n",
    "* En segundo lugar, vamos a realizar dos filtros en la columna 'weather_conditions' donde la condición 'Bad' seran los días lluviosos y la condición 'Good' seran los días soleados. Cada uno se almacenara en un nuevo dataframe para compararlos posteriormente.\n",
    "\n",
    "* Finalmente, utilizamos T de Student para determinar si nuestra hipotesis se aprueba o se rechaza.\n",
    "\n",
    "En conclusión, nuestra hipotesis nula no puede ser rechazada por lo que existe una relación entre el aumento en la duración de los viajes realizados los días sábados en un día lluvioso desde Loop al Aeropuerto Internacional O'Hare."
   ]
  },
  {
   "cell_type": "markdown",
   "metadata": {},
   "source": [
    "### CONCLUSIÓN GENERAL"
   ]
  },
  {
   "cell_type": "markdown",
   "metadata": {},
   "source": [
    "En conclusión, logramos importar los datos que trabajamos anteriormente desde SQL, lo cual ha facilitado mucho la tarea para trabajar con python, ya que contamos con los dataframe pre-filtrados con solo la información que nos es relevante. Así mismo, solo se han realizado unos pequeños ajustes a las tablas para poder trabajar con ellas, en ninguno de los casos contamos con valores ausentes o duplicados, sin embargo, en la tabla weather contamos con una fecha que tuvimos que formatear y posteriormente extrajimos el número de la semana para poder hacer un filtro por día posteriormente.\n",
    "\n",
    "En la parte de analis estadistico, logramos identificar los barrios con mayores viajes, mientras que algunos apenas tienen viajes otros cuentan con bastante información que nos puede ser util para analizar. Al igual de cuales son las empresas con mayor número de viajes, lo cual nos permite crear un perfil el cual busca un usuario de un servicio de taxi. Y cuales son las zonas con mayor flujo de posibles clientes.\n",
    "\n",
    "Finalmente, comprobamos que existe una relación en el promedio de duración de un viaje los días sabados con condiciones de lluvia, lo cual podria traducirse a una cuota mayor bajo estas condiciones para mantener rentable nuestro servicio, debido a la duración. \n",
    "\n",
    "Adicionalmente, cabe destacar que apesar de que contamos con mas tablas, el pretrabajar"
   ]
  }
 ],
 "metadata": {
  "ExecuteTimeLog": [
   {
    "duration": 5071,
    "start_time": "2024-06-18T13:30:44.796Z"
   },
   {
    "duration": 21,
    "start_time": "2024-06-18T13:33:45.387Z"
   },
   {
    "duration": 12,
    "start_time": "2024-06-18T13:33:46.650Z"
   },
   {
    "duration": 16,
    "start_time": "2024-06-18T13:34:52.774Z"
   },
   {
    "duration": 14,
    "start_time": "2024-06-18T13:35:11.133Z"
   },
   {
    "duration": 23,
    "start_time": "2024-06-18T13:38:29.006Z"
   },
   {
    "duration": 10,
    "start_time": "2024-06-18T13:38:41.744Z"
   },
   {
    "duration": 14,
    "start_time": "2024-06-18T13:39:15.341Z"
   },
   {
    "duration": 17,
    "start_time": "2024-06-18T13:39:29.575Z"
   },
   {
    "duration": 15,
    "start_time": "2024-06-18T13:39:48.278Z"
   },
   {
    "duration": 15,
    "start_time": "2024-06-18T13:40:04.282Z"
   },
   {
    "duration": 12,
    "start_time": "2024-06-18T13:44:29.238Z"
   },
   {
    "duration": 9,
    "start_time": "2024-06-18T13:45:33.719Z"
   },
   {
    "duration": 210,
    "start_time": "2024-06-18T13:47:41.303Z"
   },
   {
    "duration": 252,
    "start_time": "2024-06-18T13:50:30.076Z"
   },
   {
    "duration": 9,
    "start_time": "2024-06-18T13:50:41.045Z"
   },
   {
    "duration": 9,
    "start_time": "2024-06-18T13:51:02.258Z"
   },
   {
    "duration": 224,
    "start_time": "2024-06-18T13:52:36.039Z"
   },
   {
    "duration": 27,
    "start_time": "2024-06-18T13:53:51.849Z"
   },
   {
    "duration": 1131,
    "start_time": "2024-06-18T13:53:59.857Z"
   },
   {
    "duration": 303,
    "start_time": "2024-06-18T13:54:21.997Z"
   },
   {
    "duration": 11,
    "start_time": "2024-06-18T13:55:18.173Z"
   },
   {
    "duration": 229,
    "start_time": "2024-06-18T13:55:33.587Z"
   },
   {
    "duration": 557,
    "start_time": "2024-06-18T14:09:16.917Z"
   },
   {
    "duration": 23,
    "start_time": "2024-06-18T14:09:51.303Z"
   },
   {
    "duration": 1278,
    "start_time": "2024-06-18T14:10:09.213Z"
   },
   {
    "duration": 3,
    "start_time": "2024-06-18T14:10:10.495Z"
   },
   {
    "duration": 32,
    "start_time": "2024-06-18T14:10:10.501Z"
   },
   {
    "duration": 13,
    "start_time": "2024-06-18T14:10:10.536Z"
   },
   {
    "duration": 3,
    "start_time": "2024-06-18T14:10:10.553Z"
   },
   {
    "duration": 15,
    "start_time": "2024-06-18T14:10:10.559Z"
   },
   {
    "duration": 58,
    "start_time": "2024-06-18T14:10:10.577Z"
   },
   {
    "duration": 13,
    "start_time": "2024-06-18T14:10:10.638Z"
   },
   {
    "duration": 13,
    "start_time": "2024-06-18T14:10:10.654Z"
   },
   {
    "duration": 15,
    "start_time": "2024-06-18T14:10:10.671Z"
   },
   {
    "duration": 49,
    "start_time": "2024-06-18T14:10:10.689Z"
   },
   {
    "duration": 232,
    "start_time": "2024-06-18T14:10:10.741Z"
   },
   {
    "duration": 0,
    "start_time": "2024-06-18T14:10:10.976Z"
   },
   {
    "duration": 0,
    "start_time": "2024-06-18T14:10:10.979Z"
   },
   {
    "duration": 1,
    "start_time": "2024-06-18T14:10:10.980Z"
   },
   {
    "duration": 0,
    "start_time": "2024-06-18T14:10:10.982Z"
   },
   {
    "duration": 0,
    "start_time": "2024-06-18T14:10:10.985Z"
   },
   {
    "duration": 0,
    "start_time": "2024-06-18T14:10:10.987Z"
   },
   {
    "duration": 0,
    "start_time": "2024-06-18T14:10:10.988Z"
   },
   {
    "duration": 12,
    "start_time": "2024-06-18T14:10:25.850Z"
   },
   {
    "duration": 9,
    "start_time": "2024-06-18T14:13:21.958Z"
   },
   {
    "duration": 13,
    "start_time": "2024-06-18T14:13:35.300Z"
   },
   {
    "duration": 5,
    "start_time": "2024-06-18T14:19:43.726Z"
   },
   {
    "duration": 6,
    "start_time": "2024-06-18T14:23:02.865Z"
   },
   {
    "duration": 940,
    "start_time": "2024-06-18T14:23:40.314Z"
   },
   {
    "duration": 6,
    "start_time": "2024-06-18T14:24:08.697Z"
   },
   {
    "duration": 23,
    "start_time": "2024-06-18T14:25:46.644Z"
   },
   {
    "duration": 7,
    "start_time": "2024-06-18T14:28:06.764Z"
   },
   {
    "duration": 7,
    "start_time": "2024-06-18T14:28:17.491Z"
   },
   {
    "duration": 9,
    "start_time": "2024-06-18T14:28:42.894Z"
   },
   {
    "duration": 14,
    "start_time": "2024-06-18T14:29:12.247Z"
   },
   {
    "duration": 1227,
    "start_time": "2024-06-18T14:30:07.762Z"
   },
   {
    "duration": 4,
    "start_time": "2024-06-18T14:30:08.993Z"
   },
   {
    "duration": 32,
    "start_time": "2024-06-18T14:30:09.000Z"
   },
   {
    "duration": 14,
    "start_time": "2024-06-18T14:30:09.035Z"
   },
   {
    "duration": 4,
    "start_time": "2024-06-18T14:30:09.052Z"
   },
   {
    "duration": 14,
    "start_time": "2024-06-18T14:30:09.059Z"
   },
   {
    "duration": 56,
    "start_time": "2024-06-18T14:30:09.077Z"
   },
   {
    "duration": 14,
    "start_time": "2024-06-18T14:30:09.139Z"
   },
   {
    "duration": 14,
    "start_time": "2024-06-18T14:30:09.156Z"
   },
   {
    "duration": 17,
    "start_time": "2024-06-18T14:30:09.173Z"
   },
   {
    "duration": 9,
    "start_time": "2024-06-18T14:30:09.233Z"
   },
   {
    "duration": 11,
    "start_time": "2024-06-18T14:30:09.245Z"
   },
   {
    "duration": 15,
    "start_time": "2024-06-18T14:30:09.260Z"
   },
   {
    "duration": 55,
    "start_time": "2024-06-18T14:30:09.280Z"
   },
   {
    "duration": 13,
    "start_time": "2024-06-18T14:30:09.338Z"
   },
   {
    "duration": 261,
    "start_time": "2024-06-18T14:30:09.354Z"
   },
   {
    "duration": 243,
    "start_time": "2024-06-18T14:30:09.618Z"
   },
   {
    "duration": 287,
    "start_time": "2024-06-18T14:30:09.865Z"
   },
   {
    "duration": 15,
    "start_time": "2024-06-18T14:30:10.155Z"
   },
   {
    "duration": 631,
    "start_time": "2024-06-18T14:30:10.174Z"
   },
   {
    "duration": 10,
    "start_time": "2024-06-18T14:30:44.192Z"
   },
   {
    "duration": 17,
    "start_time": "2024-06-18T14:30:51.300Z"
   },
   {
    "duration": 14,
    "start_time": "2024-06-18T14:31:24.096Z"
   },
   {
    "duration": 14,
    "start_time": "2024-06-18T14:31:41.255Z"
   },
   {
    "duration": 15,
    "start_time": "2024-06-18T14:31:50.570Z"
   },
   {
    "duration": 45,
    "start_time": "2024-06-18T14:32:00.592Z"
   },
   {
    "duration": 745,
    "start_time": "2024-06-18T14:33:20.823Z"
   },
   {
    "duration": 902,
    "start_time": "2024-06-18T15:42:34.102Z"
   },
   {
    "duration": 19,
    "start_time": "2024-06-18T15:42:49.903Z"
   },
   {
    "duration": 111,
    "start_time": "2024-06-18T15:51:46.023Z"
   },
   {
    "duration": 15,
    "start_time": "2024-06-18T15:56:42.419Z"
   },
   {
    "duration": 99,
    "start_time": "2024-06-18T15:56:53.756Z"
   },
   {
    "duration": 17,
    "start_time": "2024-06-18T15:57:39.350Z"
   },
   {
    "duration": 18,
    "start_time": "2024-06-18T15:57:42.129Z"
   },
   {
    "duration": 8,
    "start_time": "2024-06-18T15:58:29.769Z"
   },
   {
    "duration": 9,
    "start_time": "2024-06-18T15:58:40.411Z"
   },
   {
    "duration": 8,
    "start_time": "2024-06-18T15:59:06.329Z"
   },
   {
    "duration": 12,
    "start_time": "2024-06-18T15:59:19.487Z"
   },
   {
    "duration": 17,
    "start_time": "2024-06-18T16:01:04.363Z"
   },
   {
    "duration": 6,
    "start_time": "2024-06-18T16:01:25.475Z"
   },
   {
    "duration": 35,
    "start_time": "2024-06-18T16:01:43.083Z"
   },
   {
    "duration": 22,
    "start_time": "2024-06-18T16:01:50.794Z"
   },
   {
    "duration": 16,
    "start_time": "2024-06-18T16:01:59.150Z"
   },
   {
    "duration": 9,
    "start_time": "2024-06-18T16:11:29.917Z"
   },
   {
    "duration": 10,
    "start_time": "2024-06-18T16:21:21.007Z"
   },
   {
    "duration": 12,
    "start_time": "2024-06-18T16:45:48.298Z"
   },
   {
    "duration": 360,
    "start_time": "2024-06-18T16:53:46.060Z"
   },
   {
    "duration": 1476,
    "start_time": "2024-06-18T16:53:57.140Z"
   },
   {
    "duration": 31,
    "start_time": "2024-06-18T16:55:29.903Z"
   },
   {
    "duration": 2371,
    "start_time": "2024-06-18T16:55:40.535Z"
   },
   {
    "duration": 570,
    "start_time": "2024-06-18T16:55:59.333Z"
   },
   {
    "duration": 17,
    "start_time": "2024-06-18T16:56:41.094Z"
   },
   {
    "duration": 364,
    "start_time": "2024-06-18T16:59:12.246Z"
   }
  ],
  "kernelspec": {
   "display_name": "Python 3 (ipykernel)",
   "language": "python",
   "name": "python3"
  },
  "language_info": {
   "codemirror_mode": {
    "name": "ipython",
    "version": 3
   },
   "file_extension": ".py",
   "mimetype": "text/x-python",
   "name": "python",
   "nbconvert_exporter": "python",
   "pygments_lexer": "ipython3",
   "version": "3.11.7"
  },
  "toc": {
   "base_numbering": 1,
   "nav_menu": {},
   "number_sections": true,
   "sideBar": true,
   "skip_h1_title": true,
   "title_cell": "Table of Contents",
   "title_sidebar": "Contents",
   "toc_cell": false,
   "toc_position": {
    "height": "calc(100% - 180px)",
    "left": "10px",
    "top": "150px",
    "width": "368px"
   },
   "toc_section_display": true,
   "toc_window_display": true
  }
 },
 "nbformat": 4,
 "nbformat_minor": 4
}
